{
 "cells": [
  {
   "cell_type": "markdown",
   "id": "622f7047",
   "metadata": {},
   "source": [
    "## FEDn Quickstart (PyTorch)\n",
    "\n",
    "This notebook provides an example of how to use the FEDn API to organize experiments and to analyze validation results. We will here run one training session (a collection of global rounds) using FedAvg, then retrive and visualize the results.\n",
    "\n",
    "When you start this tutorial you should have a deployed FEDn Network up and running, and you should have created the compute package and the initial model, see the example README for instructions."
   ]
  },
  {
   "cell_type": "code",
   "execution_count": 1,
   "id": "743dfe47",
   "metadata": {},
   "outputs": [],
   "source": [
    "from fedn import APIClient\n",
    "import time\n",
    "import uuid\n",
    "import json\n",
    "import matplotlib.pyplot as plt\n",
    "import numpy as np\n",
    "import collections"
   ]
  },
  {
   "cell_type": "code",
   "execution_count": 1,
   "id": "c76af85a-1995-49b8-b9fb-32b6ccf3c869",
   "metadata": {},
   "outputs": [
    {
     "name": "stdout",
     "output_type": "stream",
     "text": [
      "Requirement already satisfied: fedn==0.9.2 in ./.IOTH/lib/python3.10/site-packages (0.9.2)\n",
      "Requirement already satisfied: grpcio~=1.60.0 in ./.IOTH/lib/python3.10/site-packages (from fedn==0.9.2) (1.60.1)\n",
      "Requirement already satisfied: requests in ./.IOTH/lib/python3.10/site-packages (from fedn==0.9.2) (2.32.3)\n",
      "Requirement already satisfied: pyjwt in ./.IOTH/lib/python3.10/site-packages (from fedn==0.9.2) (2.8.0)\n",
      "Requirement already satisfied: pyyaml in ./.IOTH/lib/python3.10/site-packages (from fedn==0.9.2) (6.0.1)\n",
      "Requirement already satisfied: click==8.1.7 in ./.IOTH/lib/python3.10/site-packages (from fedn==0.9.2) (8.1.7)\n",
      "Requirement already satisfied: psutil in ./.IOTH/lib/python3.10/site-packages (from fedn==0.9.2) (6.0.0)\n",
      "Requirement already satisfied: Flask==3.0.3 in ./.IOTH/lib/python3.10/site-packages (from fedn==0.9.2) (3.0.3)\n",
      "Requirement already satisfied: pyopenssl in ./.IOTH/lib/python3.10/site-packages (from fedn==0.9.2) (24.1.0)\n",
      "Requirement already satisfied: grpcio-tools~=1.60.0 in ./.IOTH/lib/python3.10/site-packages (from fedn==0.9.2) (1.60.1)\n",
      "Requirement already satisfied: protobuf~=4.25.2 in ./.IOTH/lib/python3.10/site-packages (from fedn==0.9.2) (4.25.3)\n",
      "Requirement already satisfied: grpcio-health-checking~=1.60.0 in ./.IOTH/lib/python3.10/site-packages (from fedn==0.9.2) (1.60.1)\n",
      "Requirement already satisfied: minio in ./.IOTH/lib/python3.10/site-packages (from fedn==0.9.2) (7.2.7)\n",
      "Requirement already satisfied: plotly in ./.IOTH/lib/python3.10/site-packages (from fedn==0.9.2) (5.22.0)\n",
      "Requirement already satisfied: urllib3>=1.26.4 in ./.IOTH/lib/python3.10/site-packages (from fedn==0.9.2) (2.2.2)\n",
      "Requirement already satisfied: numpy>=1.21.6 in ./.IOTH/lib/python3.10/site-packages (from fedn==0.9.2) (1.22.4)\n",
      "Requirement already satisfied: pymongo in ./.IOTH/lib/python3.10/site-packages (from fedn==0.9.2) (4.8.0)\n",
      "Requirement already satisfied: virtualenv in ./.IOTH/lib/python3.10/site-packages (from fedn==0.9.2) (20.26.3)\n",
      "Requirement already satisfied: itsdangerous>=2.1.2 in ./.IOTH/lib/python3.10/site-packages (from Flask==3.0.3->fedn==0.9.2) (2.2.0)\n",
      "Requirement already satisfied: blinker>=1.6.2 in ./.IOTH/lib/python3.10/site-packages (from Flask==3.0.3->fedn==0.9.2) (1.8.2)\n",
      "Requirement already satisfied: Werkzeug>=3.0.0 in ./.IOTH/lib/python3.10/site-packages (from Flask==3.0.3->fedn==0.9.2) (3.0.3)\n",
      "Requirement already satisfied: Jinja2>=3.1.2 in ./.IOTH/lib/python3.10/site-packages (from Flask==3.0.3->fedn==0.9.2) (3.1.4)\n",
      "Requirement already satisfied: setuptools in ./.IOTH/lib/python3.10/site-packages (from grpcio-tools~=1.60.0->fedn==0.9.2) (59.6.0)\n",
      "Requirement already satisfied: typing-extensions in ./.IOTH/lib/python3.10/site-packages (from minio->fedn==0.9.2) (4.12.2)\n",
      "Requirement already satisfied: certifi in ./.IOTH/lib/python3.10/site-packages (from minio->fedn==0.9.2) (2024.6.2)\n",
      "Requirement already satisfied: pycryptodome in ./.IOTH/lib/python3.10/site-packages (from minio->fedn==0.9.2) (3.20.0)\n",
      "Requirement already satisfied: argon2-cffi in ./.IOTH/lib/python3.10/site-packages (from minio->fedn==0.9.2) (23.1.0)\n",
      "Requirement already satisfied: tenacity>=6.2.0 in ./.IOTH/lib/python3.10/site-packages (from plotly->fedn==0.9.2) (8.4.2)\n",
      "Requirement already satisfied: packaging in ./.IOTH/lib/python3.10/site-packages (from plotly->fedn==0.9.2) (24.1)\n",
      "Requirement already satisfied: dnspython<3.0.0,>=1.16.0 in ./.IOTH/lib/python3.10/site-packages (from pymongo->fedn==0.9.2) (2.6.1)\n",
      "Requirement already satisfied: cryptography<43,>=41.0.5 in ./.IOTH/lib/python3.10/site-packages (from pyopenssl->fedn==0.9.2) (42.0.8)\n",
      "Requirement already satisfied: charset-normalizer<4,>=2 in ./.IOTH/lib/python3.10/site-packages (from requests->fedn==0.9.2) (3.3.2)\n",
      "Requirement already satisfied: idna<4,>=2.5 in ./.IOTH/lib/python3.10/site-packages (from requests->fedn==0.9.2) (3.7)\n",
      "Requirement already satisfied: distlib<1,>=0.3.7 in ./.IOTH/lib/python3.10/site-packages (from virtualenv->fedn==0.9.2) (0.3.8)\n",
      "Requirement already satisfied: platformdirs<5,>=3.9.1 in ./.IOTH/lib/python3.10/site-packages (from virtualenv->fedn==0.9.2) (4.2.2)\n",
      "Requirement already satisfied: filelock<4,>=3.12.2 in ./.IOTH/lib/python3.10/site-packages (from virtualenv->fedn==0.9.2) (3.15.4)\n",
      "Requirement already satisfied: cffi>=1.12 in ./.IOTH/lib/python3.10/site-packages (from cryptography<43,>=41.0.5->pyopenssl->fedn==0.9.2) (1.16.0)\n",
      "Requirement already satisfied: MarkupSafe>=2.0 in ./.IOTH/lib/python3.10/site-packages (from Jinja2>=3.1.2->Flask==3.0.3->fedn==0.9.2) (2.1.5)\n",
      "Requirement already satisfied: argon2-cffi-bindings in ./.IOTH/lib/python3.10/site-packages (from argon2-cffi->minio->fedn==0.9.2) (21.2.0)\n",
      "Requirement already satisfied: pycparser in ./.IOTH/lib/python3.10/site-packages (from cffi>=1.12->cryptography<43,>=41.0.5->pyopenssl->fedn==0.9.2) (2.22)\n"
     ]
    }
   ],
   "source": [
    "!pip install --upgrade fedn==0.9.2"
   ]
  },
  {
   "cell_type": "markdown",
   "id": "1046a4e5",
   "metadata": {},
   "source": [
    "We make a client connection to the FEDn API service. Here we assume that FEDn is deployed locally in pseudo-distributed mode with default ports."
   ]
  },
  {
   "cell_type": "code",
   "execution_count": 2,
   "id": "1061722d",
   "metadata": {},
   "outputs": [],
   "source": [
    "DISCOVER_HOST = '192.168.2.56'\n",
    "DISCOVER_PORT = 8092\n",
    "client = APIClient(DISCOVER_HOST, DISCOVER_PORT)"
   ]
  },
  {
   "cell_type": "code",
   "execution_count": 3,
   "id": "41f57b9c-1962-4002-9804-ffb25c02e87e",
   "metadata": {},
   "outputs": [
    {
     "data": {
      "text/plain": [
       "{'message': 'Compute package set.', 'success': True}"
      ]
     },
     "execution_count": 3,
     "metadata": {},
     "output_type": "execute_result"
    }
   ],
   "source": [
    "client.set_active_package('package.tgz', 'numpyhelper')"
   ]
  },
  {
   "cell_type": "markdown",
   "id": "07f69f5f",
   "metadata": {},
   "source": [
    "Initialize FEDn with the compute package and seed model. Note that these files needs to be created separately by follwing instructions in the README."
   ]
  },
  {
   "cell_type": "code",
   "execution_count": 4,
   "id": "5107f6f9",
   "metadata": {},
   "outputs": [
    {
     "name": "stdout",
     "output_type": "stream",
     "text": [
      "{'committed_at': 'Sat, 17 Aug 2024 18:48:16 GMT', 'id': '66c0f070454c96b90cef0832', 'key': 'models', 'model': 'c14c0cbe-8856-4865-bd41-307dda25aab1', 'parent_model': None, 'session_id': None}\n"
     ]
    }
   ],
   "source": [
    "#client.set_active_package('package.tgz', 'numpyhelper')\n",
    "client.set_active_model('seed.npz')\n",
    "seed_model = client.get_active_model()\n",
    "print(seed_model)"
   ]
  },
  {
   "cell_type": "code",
   "execution_count": 8,
   "id": "20379e6e-0c26-4579-ab9d-8c05ef5d1efb",
   "metadata": {},
   "outputs": [],
   "source": [
    "session_id = \"experiment_fedadam\"\n",
    "\n",
    "session_config = {\n",
    "                    \"helper\": \"numpyhelper\",\n",
    "                    \"id\": session_id,\n",
    "                    \"aggregator\": \"fedopt\",\n",
    "                    \"aggregator_kwargs\": {\n",
    "                        \"serveropt\": \"adam\",\n",
    "                        \"learning_rate\": 1e-2,\n",
    "                        \"beta1\": 0.9,\n",
    "                        \"beta2\": 0.99,\n",
    "                        \"tau\": 1e-4\n",
    "                        },\n",
    "                    \"model_id\": seed_model['model'],\n",
    "                    \"rounds\": 10\n",
    "                 }\n",
    "\n",
    "result_fedadam = client.start_session(**session_config)"
   ]
  },
  {
   "cell_type": "code",
   "execution_count": 5,
   "id": "8cffe98b-285b-4d20-97f4-c685916f5c79",
   "metadata": {},
   "outputs": [],
   "source": [
    "session_id = \"experiment_fedadam_6\"\n",
    "\n",
    "session_config = {\n",
    "                    \"helper\": \"numpyhelper\",\n",
    "                    \"id\": session_id,\n",
    "                    \"aggregator\": \"fedopt\",\n",
    "                    \"aggregator_kwargs\": {\n",
    "                        \"serveropt\": \"adam\",\n",
    "                        \"learning_rate\": 1e-2,\n",
    "                        \"beta1\": 0.9,\n",
    "                        \"beta2\": 0.99,\n",
    "                        \"tau\": 1e-4\n",
    "                        },\n",
    "                    \"model_id\": seed_model['model'],\n",
    "                    \"round_timeout\": 40000,\n",
    "                    \"rounds\": 50\n",
    "                 }\n",
    "\n",
    "result_fedadam = client.start_session(**session_config)\n",
    "# We wait for the session to finish\n",
    "while not client.session_is_finished(session_config['id']):\n",
    "    time.sleep(2)"
   ]
  },
  {
   "cell_type": "code",
   "execution_count": 19,
   "id": "0ce6f08d-5053-41a9-8cb7-b4a9e1a6445f",
   "metadata": {},
   "outputs": [],
   "source": [
    "session_id = \"experiment_fedopt\""
   ]
  },
  {
   "cell_type": "code",
   "execution_count": 20,
   "id": "c0f1eadb",
   "metadata": {},
   "outputs": [
    {
     "ename": "TypeError",
     "evalue": "APIClient.start_session() got an unexpected keyword argument 'session_id'",
     "output_type": "error",
     "traceback": [
      "\u001b[0;31m---------------------------------------------------------------------------\u001b[0m",
      "\u001b[0;31mTypeError\u001b[0m                                 Traceback (most recent call last)",
      "Cell \u001b[0;32mIn[20], line 10\u001b[0m\n\u001b[1;32m      1\u001b[0m session_config_fedopt \u001b[38;5;241m=\u001b[39m {\n\u001b[1;32m      2\u001b[0m                     \u001b[38;5;124m\"\u001b[39m\u001b[38;5;124mhelper\u001b[39m\u001b[38;5;124m\"\u001b[39m: \u001b[38;5;124m\"\u001b[39m\u001b[38;5;124mnumpyhelper\u001b[39m\u001b[38;5;124m\"\u001b[39m,\n\u001b[1;32m      3\u001b[0m                     \u001b[38;5;124m\"\u001b[39m\u001b[38;5;124msession_id\u001b[39m\u001b[38;5;124m\"\u001b[39m: \u001b[38;5;124m\"\u001b[39m\u001b[38;5;124mexperiment_fedopt\u001b[39m\u001b[38;5;124m\"\u001b[39m,\n\u001b[0;32m   (...)\u001b[0m\n\u001b[1;32m      7\u001b[0m                     \u001b[38;5;124m\"\u001b[39m\u001b[38;5;124mrounds\u001b[39m\u001b[38;5;124m\"\u001b[39m: \u001b[38;5;241m50\u001b[39m\n\u001b[1;32m      8\u001b[0m                  }\n\u001b[0;32m---> 10\u001b[0m result_fedopt \u001b[38;5;241m=\u001b[39m \u001b[43mclient\u001b[49m\u001b[38;5;241;43m.\u001b[39;49m\u001b[43mstart_session\u001b[49m\u001b[43m(\u001b[49m\u001b[38;5;241;43m*\u001b[39;49m\u001b[38;5;241;43m*\u001b[39;49m\u001b[43msession_config_fedopt\u001b[49m\u001b[43m)\u001b[49m\n\u001b[1;32m     11\u001b[0m \u001b[38;5;66;03m# We wait for the session to finish\u001b[39;00m\n\u001b[1;32m     12\u001b[0m \u001b[38;5;66;03m# while not client.session_is_finished(session_config['id']):\u001b[39;00m\n\u001b[1;32m     13\u001b[0m \u001b[38;5;66;03m#     time.sleep(2)\u001b[39;00m\n",
      "\u001b[0;31mTypeError\u001b[0m: APIClient.start_session() got an unexpected keyword argument 'session_id'"
     ]
    }
   ],
   "source": [
    "session_config_fedopt = {\n",
    "                    \"helper\": \"numpyhelper\",\n",
    "                    \"session_id\": \"experiment_fedopt\",\n",
    "                    \"aggregator\": \"fedopt\",\n",
    "                    \"model_id\": seed_model['model'],\n",
    "                    \"round_timeout\": 4000,\n",
    "                    \"rounds\": 50\n",
    "                 }\n",
    "\n",
    "result_fedopt = client.start_session(**session_config_fedopt)\n",
    "# We wait for the session to finish\n",
    "# while not client.session_is_finished(session_config['id']):\n",
    "#     time.sleep(2)"
   ]
  },
  {
   "cell_type": "code",
   "execution_count": 12,
   "id": "770337ce-da41-4132-9f70-7b882ae765df",
   "metadata": {},
   "outputs": [],
   "source": [
    "session_id = \"experiment04\""
   ]
  },
  {
   "cell_type": "markdown",
   "id": "4e26c50b",
   "metadata": {},
   "source": [
    "Next we start a training session using FedAvg and wait until it has finished:"
   ]
  },
  {
   "cell_type": "code",
   "execution_count": 13,
   "id": "f0380d35",
   "metadata": {},
   "outputs": [
    {
     "ename": "KeyboardInterrupt",
     "evalue": "",
     "output_type": "error",
     "traceback": [
      "\u001b[0;31m---------------------------------------------------------------------------\u001b[0m",
      "\u001b[0;31mKeyboardInterrupt\u001b[0m                         Traceback (most recent call last)",
      "Cell \u001b[0;32mIn[13], line 14\u001b[0m\n\u001b[1;32m     12\u001b[0m \u001b[38;5;66;03m# We wait for the session to finish\u001b[39;00m\n\u001b[1;32m     13\u001b[0m \u001b[38;5;28;01mwhile\u001b[39;00m \u001b[38;5;129;01mnot\u001b[39;00m client\u001b[38;5;241m.\u001b[39msession_is_finished(session_config[\u001b[38;5;124m'\u001b[39m\u001b[38;5;124mid\u001b[39m\u001b[38;5;124m'\u001b[39m]):\n\u001b[0;32m---> 14\u001b[0m     \u001b[43mtime\u001b[49m\u001b[38;5;241;43m.\u001b[39;49m\u001b[43msleep\u001b[49m\u001b[43m(\u001b[49m\u001b[38;5;241;43m2\u001b[39;49m\u001b[43m)\u001b[49m\n",
      "\u001b[0;31mKeyboardInterrupt\u001b[0m: "
     ]
    }
   ],
   "source": [
    "\n",
    "\n",
    "session_config = {\n",
    "                    \"helper\": \"numpyhelper\",\n",
    "                    \"id\": session_id,\n",
    "                    \"aggregator\": \"fedavg\",\n",
    "                    \"model_id\": seed_model['model'],\n",
    "                    \"model_id\": seed_model['model'],\n",
    "                    \"rounds\": 50,\n",
    "                    \"round_timeout\": 4000\n",
    "                 }\n",
    "\n",
    "result_fedavg = client.start_session(**session_config)\n",
    "\n",
    "# We wait for the session to finish\n",
    "while not client.session_is_finished(session_config['id']):\n",
    "    time.sleep(2)"
   ]
  },
  {
   "cell_type": "code",
   "execution_count": 17,
   "id": "0d09110a-f3d2-4a48-a2fe-1b905d9738db",
   "metadata": {},
   "outputs": [
    {
     "data": {
      "text/plain": [
       "True"
      ]
     },
     "execution_count": 17,
     "metadata": {},
     "output_type": "execute_result"
    }
   ],
   "source": [
    "client.session_is_finished(session_config['id'])"
   ]
  },
  {
   "cell_type": "code",
   "execution_count": 5,
   "id": "6bf641e6-1472-428c-8b9f-1e1da0bce70d",
   "metadata": {},
   "outputs": [
    {
     "ename": "TypeError",
     "evalue": "APIClient.start_session() got an unexpected keyword argument 'aggregator_kwargs'",
     "output_type": "error",
     "traceback": [
      "\u001b[0;31m---------------------------------------------------------------------------\u001b[0m",
      "\u001b[0;31mTypeError\u001b[0m                                 Traceback (most recent call last)",
      "Cell \u001b[0;32mIn[5], line 18\u001b[0m\n\u001b[1;32m      1\u001b[0m session_id \u001b[38;5;241m=\u001b[39m \u001b[38;5;124m\"\u001b[39m\u001b[38;5;124mexperiment_fedadam_1\u001b[39m\u001b[38;5;124m\"\u001b[39m\n\u001b[1;32m      3\u001b[0m session_config \u001b[38;5;241m=\u001b[39m {\n\u001b[1;32m      4\u001b[0m                     \u001b[38;5;124m\"\u001b[39m\u001b[38;5;124mhelper\u001b[39m\u001b[38;5;124m\"\u001b[39m: \u001b[38;5;124m\"\u001b[39m\u001b[38;5;124mnumpyhelper\u001b[39m\u001b[38;5;124m\"\u001b[39m,\n\u001b[1;32m      5\u001b[0m                     \u001b[38;5;124m\"\u001b[39m\u001b[38;5;124mid\u001b[39m\u001b[38;5;124m\"\u001b[39m: session_id,\n\u001b[0;32m   (...)\u001b[0m\n\u001b[1;32m     15\u001b[0m                     \u001b[38;5;124m\"\u001b[39m\u001b[38;5;124mrounds\u001b[39m\u001b[38;5;124m\"\u001b[39m: \u001b[38;5;241m50\u001b[39m\n\u001b[1;32m     16\u001b[0m                  }\n\u001b[0;32m---> 18\u001b[0m result_fedadam \u001b[38;5;241m=\u001b[39m \u001b[43mclient\u001b[49m\u001b[38;5;241;43m.\u001b[39;49m\u001b[43mstart_session\u001b[49m\u001b[43m(\u001b[49m\u001b[38;5;241;43m*\u001b[39;49m\u001b[38;5;241;43m*\u001b[39;49m\u001b[43msession_config\u001b[49m\u001b[43m)\u001b[49m\n",
      "\u001b[0;31mTypeError\u001b[0m: APIClient.start_session() got an unexpected keyword argument 'aggregator_kwargs'"
     ]
    }
   ],
   "source": [
    "session_id = \"experiment_fedadam_1\"\n",
    "\n",
    "session_config = {\n",
    "                    \"helper\": \"numpyhelper\",\n",
    "                    \"id\": session_id,\n",
    "                    \"aggregator\": \"fedopt\",\n",
    "                    \"aggregator_kwargs\": {\n",
    "                        \"serveropt\": \"adam\",\n",
    "                        \"learning_rate\": 1e-2,\n",
    "                        \"beta1\": 0.9,\n",
    "                        \"beta2\": 0.99,\n",
    "                        \"tau\": 1e-4\n",
    "                        },\n",
    "                    \"model_id\": seed_model['model'],\n",
    "                    \"rounds\": 50\n",
    "                 }\n",
    "\n",
    "result_fedadam = client.start_session(**session_config)"
   ]
  },
  {
   "cell_type": "markdown",
   "id": "16874cec",
   "metadata": {},
   "source": [
    "Next, we get the model trail, retrieve all model validations from all clients, extract the training accuracy metric, and compute its mean value accross all clients."
   ]
  },
  {
   "cell_type": "code",
   "execution_count": 16,
   "id": "4e8044b7",
   "metadata": {},
   "outputs": [],
   "source": [
    "session_id = \"experiment04\"\n",
    "models = client.get_model_trail()\n",
    "\n",
    "acc = []\n",
    "for model in models:\n",
    "    \n",
    "    model_id = model[\"model\"]\n",
    "    validations = client.get_validations(model_id=model_id)\n",
    "\n",
    "    a = []\n",
    "    for validation in validations['result']: \n",
    "        metrics = json.loads(validation['data'])\n",
    "        a.append(metrics['test_accuracy'])\n",
    "        \n",
    "    acc.append(a)\n",
    "\n",
    "mean_acc = [np.mean(x) for x in acc]"
   ]
  },
  {
   "cell_type": "code",
   "execution_count": 7,
   "id": "bee140ec-a07c-42f1-a29d-93fbc97d5fea",
   "metadata": {},
   "outputs": [
    {
     "name": "stdout",
     "output_type": "stream",
     "text": [
      "Collecting matplotlib\n",
      "  Using cached matplotlib-3.8.4-cp310-cp310-manylinux_2_17_x86_64.manylinux2014_x86_64.whl.metadata (5.8 kB)\n",
      "Collecting contourpy>=1.0.1 (from matplotlib)\n",
      "  Using cached contourpy-1.2.1-cp310-cp310-manylinux_2_17_x86_64.manylinux2014_x86_64.whl.metadata (5.8 kB)\n",
      "Collecting cycler>=0.10 (from matplotlib)\n",
      "  Using cached cycler-0.12.1-py3-none-any.whl.metadata (3.8 kB)\n",
      "Collecting fonttools>=4.22.0 (from matplotlib)\n",
      "  Using cached fonttools-4.51.0-cp310-cp310-manylinux_2_17_x86_64.manylinux2014_x86_64.whl.metadata (159 kB)\n",
      "Collecting kiwisolver>=1.3.1 (from matplotlib)\n",
      "  Using cached kiwisolver-1.4.5-cp310-cp310-manylinux_2_12_x86_64.manylinux2010_x86_64.whl.metadata (6.4 kB)\n",
      "Requirement already satisfied: numpy>=1.21 in ./IOTH/lib/python3.10/site-packages (from matplotlib) (1.26.4)\n",
      "Requirement already satisfied: packaging>=20.0 in ./IOTH/lib/python3.10/site-packages (from matplotlib) (24.0)\n",
      "Collecting pillow>=8 (from matplotlib)\n",
      "  Using cached pillow-10.3.0-cp310-cp310-manylinux_2_28_x86_64.whl.metadata (9.2 kB)\n",
      "Collecting pyparsing>=2.3.1 (from matplotlib)\n",
      "  Using cached pyparsing-3.1.2-py3-none-any.whl.metadata (5.1 kB)\n",
      "Requirement already satisfied: python-dateutil>=2.7 in ./IOTH/lib/python3.10/site-packages (from matplotlib) (2.9.0.post0)\n",
      "Requirement already satisfied: six>=1.5 in ./IOTH/lib/python3.10/site-packages (from python-dateutil>=2.7->matplotlib) (1.16.0)\n",
      "Using cached matplotlib-3.8.4-cp310-cp310-manylinux_2_17_x86_64.manylinux2014_x86_64.whl (11.6 MB)\n",
      "Using cached contourpy-1.2.1-cp310-cp310-manylinux_2_17_x86_64.manylinux2014_x86_64.whl (305 kB)\n",
      "Using cached cycler-0.12.1-py3-none-any.whl (8.3 kB)\n",
      "Using cached fonttools-4.51.0-cp310-cp310-manylinux_2_17_x86_64.manylinux2014_x86_64.whl (4.6 MB)\n",
      "Using cached kiwisolver-1.4.5-cp310-cp310-manylinux_2_12_x86_64.manylinux2010_x86_64.whl (1.6 MB)\n",
      "Using cached pillow-10.3.0-cp310-cp310-manylinux_2_28_x86_64.whl (4.5 MB)\n",
      "Using cached pyparsing-3.1.2-py3-none-any.whl (103 kB)\n",
      "Installing collected packages: pyparsing, pillow, kiwisolver, fonttools, cycler, contourpy, matplotlib\n",
      "Successfully installed contourpy-1.2.1 cycler-0.12.1 fonttools-4.51.0 kiwisolver-1.4.5 matplotlib-3.8.4 pillow-10.3.0 pyparsing-3.1.2\n"
     ]
    }
   ],
   "source": [
    "!pip install matplotlib"
   ]
  },
  {
   "cell_type": "code",
   "execution_count": 17,
   "id": "42425c43",
   "metadata": {},
   "outputs": [
    {
     "data": {
      "text/plain": [
       "<matplotlib.legend.Legend at 0x7f0a4033ef80>"
      ]
     },
     "execution_count": 17,
     "metadata": {},
     "output_type": "execute_result"
    },
    {
     "data": {
      "image/png": "[encoded data removed]",
      "text/plain": [
       "<Figure size 640x480 with 1 Axes>"
      ]
     },
     "metadata": {},
     "output_type": "display_data"
    }
   ],
   "source": [
    "import matplotlib.pyplot as plt\n",
    "x = range(1,len(mean_acc)+1)\n",
    "plt.plot(x, mean_acc)\n",
    "plt.legend(['test Accuracy (FedAvg)'])"
   ]
  },
  {
   "cell_type": "code",
   "execution_count": 10,
   "id": "b78e9a67-df36-4c66-8caf-0ae1d69b624e",
   "metadata": {},
   "outputs": [
    {
     "name": "stdout",
     "output_type": "stream",
     "text": [
      "Collecting pandas\n",
      "  Downloading pandas-2.2.2-cp310-cp310-manylinux_2_17_x86_64.manylinux2014_x86_64.whl (13.0 MB)\n",
      "\u001b[2K     \u001b[38;2;114;156;31m━━━━━━━━━━━━━━━━━━━━━━━━━━━━━━━━━━━━━━━━\u001b[0m \u001b[32m13.0/13.0 MB\u001b[0m \u001b[31m35.0 MB/s\u001b[0m eta \u001b[36m0:00:00\u001b[0mm eta \u001b[36m0:00:01\u001b[0m[36m0:00:01\u001b[0m\n",
      "\u001b[?25hRequirement already satisfied: numpy>=1.22.4 in ./.IOTH/lib/python3.10/site-packages (from pandas) (1.22.4)\n",
      "Collecting pytz>=2020.1\n",
      "  Downloading pytz-2024.1-py2.py3-none-any.whl (505 kB)\n",
      "\u001b[2K     \u001b[38;2;114;156;31m━━━━━━━━━━━━━━━━━━━━━━━━━━━━━━━━━━━━━━\u001b[0m \u001b[32m505.5/505.5 KB\u001b[0m \u001b[31m17.7 MB/s\u001b[0m eta \u001b[36m0:00:00\u001b[0m\n",
      "\u001b[?25hCollecting tzdata>=2022.7\n",
      "  Downloading tzdata-2024.1-py2.py3-none-any.whl (345 kB)\n",
      "\u001b[2K     \u001b[38;2;114;156;31m━━━━━━━━━━━━━━━━━━━━━━━━━━━━━━━━━━━━━━\u001b[0m \u001b[32m345.4/345.4 KB\u001b[0m \u001b[31m12.9 MB/s\u001b[0m eta \u001b[36m0:00:00\u001b[0m\n",
      "\u001b[?25hRequirement already satisfied: python-dateutil>=2.8.2 in ./.IOTH/lib/python3.10/site-packages (from pandas) (2.9.0.post0)\n",
      "Requirement already satisfied: six>=1.5 in ./.IOTH/lib/python3.10/site-packages (from python-dateutil>=2.8.2->pandas) (1.16.0)\n",
      "Installing collected packages: pytz, tzdata, pandas\n",
      "Successfully installed pandas-2.2.2 pytz-2024.1 tzdata-2024.1\n"
     ]
    }
   ],
   "source": [
    "!pip install pandas"
   ]
  },
  {
   "cell_type": "code",
   "execution_count": 18,
   "id": "ac3899e9-988f-4949-a07e-31a5c4fb2562",
   "metadata": {},
   "outputs": [
    {
     "data": {
      "image/png": "[encoded data removed]",
      "text/plain": [
       "<Figure size 1000x800 with 1 Axes>"
      ]
     },
     "metadata": {},
     "output_type": "display_data"
    }
   ],
   "source": [
    "import json\n",
    "import numpy as np\n",
    "import matplotlib.pyplot as plt\n",
    "import pandas as pd\n",
    "\n",
    "# Assuming 'client' is predefined and has the necessary methods\n",
    "session_id = \"experiment04\"\n",
    "models = client.get_model_trail()  # Ensure this function exists and is correctly named\n",
    "\n",
    "acc = []\n",
    "precisions = []\n",
    "recalls = []\n",
    "f1_scores = []\n",
    "\n",
    "for model in models:\n",
    "    model_id = model[\"model\"]\n",
    "    validations = client.get_validations(model_id=model_id)  # Ensure this function exists and is correctly named\n",
    "\n",
    "    a = []\n",
    "    p = []\n",
    "    r = []\n",
    "    f1 = []\n",
    "    for validation in validations['result']:\n",
    "        metrics = json.loads(validation['data'])\n",
    "        a.append(metrics.get('test_accuracy', 0))\n",
    "        p.append(metrics.get('precision', 0))\n",
    "        r.append(metrics.get('recall', 0))\n",
    "        f1.append(metrics.get('f1_score', 0))\n",
    "        \n",
    "    acc.append(a)\n",
    "    precisions.append(p)\n",
    "    recalls.append(r)\n",
    "    f1_scores.append(f1)\n",
    "\n",
    "mean_acc = [np.mean(x) for x in acc]\n",
    "mean_precisions = [np.mean(x) for x in precisions]\n",
    "mean_recalls = [np.mean(x) for x in recalls]\n",
    "mean_f1_scores = [np.mean(x) for x in f1_scores]\n",
    "\n",
    "# Plotting all metrics\n",
    "x = range(1, len(mean_acc)+1)\n",
    "plt.figure(figsize=(10, 8))\n",
    "plt.plot(x, mean_acc, label='Test Accuracy')\n",
    "plt.plot(x, mean_precisions, label='Precision')\n",
    "plt.plot(x, mean_recalls, label='Recall')\n",
    "plt.plot(x, mean_f1_scores, label='F1 Score')\n",
    "\n",
    "plt.xlabel('Model Number', fontdict={'fontsize': 12, 'fontweight': 'bold'})\n",
    "plt.ylabel('Metric Values', fontdict={'fontsize': 12, 'fontweight': 'bold'})\n",
    "plt.title('Performance Metrics per Model (FedAvg)')\n",
    "plt.legend()\n",
    "plt.savefig('model_metrics_plot_test_50R_epoch2_B256_LR01_kf20.png')  # Save the plot\n",
    "plt.show()\n",
    "\n",
    "# Saving metrics to CSV\n",
    "data = {\n",
    "    'Test Accuracy': mean_acc,\n",
    "    'Precision': mean_precisions,\n",
    "    'Recall': mean_recalls,\n",
    "    'F1 Score': mean_f1_scores\n",
    "}\n",
    "df = pd.DataFrame(data)\n",
    "df.to_csv('model_metrics_test_50_epoch2_B256_LR01_kf20.csv', index=False)\n"
   ]
  },
  {
   "cell_type": "code",
   "execution_count": null,
   "id": "1cf2bd07-bebb-4960-a085-2571259e4d7e",
   "metadata": {},
   "outputs": [],
   "source": []
  },
  {
   "cell_type": "code",
   "execution_count": 20,
   "id": "9e25396d-e9a0-4e5d-91ce-1d3a1855e7f2",
   "metadata": {},
   "outputs": [],
   "source": [
    "df.to_excel('model_metrics_50round_epoch2_B256_LR01_kf20.xlsx', index=False)"
   ]
  },
  {
   "cell_type": "code",
   "execution_count": 13,
   "id": "cfd73e39-902c-47b5-bf61-9c566f0c9b22",
   "metadata": {},
   "outputs": [
    {
     "name": "stdout",
     "output_type": "stream",
     "text": [
      "Collecting openpyxl\n",
      "  Downloading openpyxl-3.1.5-py2.py3-none-any.whl (250 kB)\n",
      "\u001b[2K     \u001b[38;2;114;156;31m━━━━━━━━━━━━━━━━━━━━━━━━━━━━━━━━━━━━━━━\u001b[0m \u001b[32m250.9/250.9 KB\u001b[0m \u001b[31m3.1 MB/s\u001b[0m eta \u001b[36m0:00:00\u001b[0m[36m0:00:01\u001b[0m\n",
      "\u001b[?25hCollecting et-xmlfile\n",
      "  Downloading et_xmlfile-1.1.0-py3-none-any.whl (4.7 kB)\n",
      "Installing collected packages: et-xmlfile, openpyxl\n",
      "Successfully installed et-xmlfile-1.1.0 openpyxl-3.1.5\n"
     ]
    }
   ],
   "source": [
    "!pip install openpyxl"
   ]
  },
  {
   "cell_type": "code",
   "execution_count": null,
   "id": "8a61b35e-29e5-4b69-8124-31cb6efeff7c",
   "metadata": {},
   "outputs": [],
   "source": []
  }
 ],
 "metadata": {
  "kernelspec": {
   "display_name": "IOTH",
   "language": "python",
   "name": ".ioth"
  },
  "language_info": {
   "codemirror_mode": {
    "name": "ipython",
    "version": 3
   },
   "file_extension": ".py",
   "mimetype": "text/x-python",
   "name": "python",
   "nbconvert_exporter": "python",
   "pygments_lexer": "ipython3",
   "version": "3.10.12"
  }
 },
 "nbformat": 4,
 "nbformat_minor": 5
}
